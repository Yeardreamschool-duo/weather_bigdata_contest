{
 "cells": [
  {
   "cell_type": "code",
   "execution_count": 1,
   "id": "03a533e4",
   "metadata": {
    "ExecuteTime": {
     "end_time": "2022-07-24T03:54:17.010765Z",
     "start_time": "2022-07-24T03:54:16.056374Z"
    }
   },
   "outputs": [],
   "source": [
    "# module import\n",
    "\n",
    "import warnings\n",
    "warnings.filterwarnings('ignore')\n",
    "\n",
    "import pandas as pd\n",
    "import numpy as np\n",
    "import seaborn as sns\n",
    "import matplotlib.pyplot as plt\n",
    "%matplotlib inline\n",
    "\n",
    "from sklearn import preprocessing\n",
    "from sklearn.impute import KNNImputer\n",
    "import datetime\n",
    "import glob"
   ]
  },
  {
   "cell_type": "markdown",
   "id": "836216c9",
   "metadata": {},
   "source": [
    "# Train"
   ]
  },
  {
   "cell_type": "code",
   "execution_count": 14,
   "id": "0b466845",
   "metadata": {
    "ExecuteTime": {
     "end_time": "2022-07-24T03:55:30.909432Z",
     "start_time": "2022-07-24T03:55:30.904590Z"
    }
   },
   "outputs": [],
   "source": [
    "# train file 경로 설정\n",
    "global_path = './uv_data_train/*'\n",
    "region_path = './region_train/'\n",
    "knn_path = './KNN_train/'\n"
   ]
  },
  {
   "cell_type": "code",
   "execution_count": 15,
   "id": "9db50ffd",
   "metadata": {
    "ExecuteTime": {
     "end_time": "2022-07-24T03:55:31.084504Z",
     "start_time": "2022-07-24T03:55:31.076283Z"
    }
   },
   "outputs": [],
   "source": [
    "def load_data():\n",
    "    folders = glob.glob(global_path)\n",
    "    \n",
    "    # 새로운 데이터 프레임 생성\n",
    "    all_data = pd.DataFrame()\n",
    "\n",
    "    for files in folders:\n",
    "        df= pd.read_csv(files)\n",
    "        df.columns = [\"Unnamed: 0\",\"yyyymmdd\", \"hhnn\",\"stn\",\"lon\",\"lat\",\"uv\",\"band1\",\"band2\",\"band3\",\"band4\",\"band5\",\"band6\",\"band7\",\"band8\",\"band9\",\"band10\",\"band11\",\"band12\",\"band13\",\"band14\",\"band15\",\"band16\",\"solarza\",\"sateza\",\"esr\",\"height\",\"landtype\"]\n",
    "        all_data = pd.concat([all_data, df])\n",
    "        all_data.drop('Unnamed: 0', axis=1)\n",
    "    \n",
    "    return all_data"
   ]
  },
  {
   "cell_type": "code",
   "execution_count": 16,
   "id": "aa7cbe9e",
   "metadata": {
    "ExecuteTime": {
     "end_time": "2022-07-24T03:55:31.229508Z",
     "start_time": "2022-07-24T03:55:31.216209Z"
    }
   },
   "outputs": [],
   "source": [
    "def split_region(all_data):\n",
    "    all_data['lon'] = all_data['lon'].round(2)\n",
    "    map_dict={126.16:\"고산\", 128.89:\"강릉\", 126.96:\"서울\", 126.62:\"인천\", 130.9:\"울릉도독도\" , 127.44:\"청주\", 126.33:\"안면도\", 127.37:\"대전\",\n",
    "           129.38:\"포항\", 128.65:\"대구\", 127.12:\"전주\", 129.33:\"울산\", 126.89:\"광주\", 129.03:\"부산\", 126.38:\"목포\"}\n",
    "    all_data['region'] = all_data['lon'].map(map_dict) \n",
    "    \n",
    "    regions = ['고산','강릉','서울','인천','울릉도독도','청주','안면도','대전','포항','대구','전주','울산','광주','부산','목포']\n",
    "\n",
    "    for i in regions:\n",
    "        region = i\n",
    "        i = all_data[all_data['region']==i]\n",
    "        i.to_csv(f'{region_path}{region}.csv', index=False)  "
   ]
  },
  {
   "cell_type": "code",
   "execution_count": 17,
   "id": "6b753ce9",
   "metadata": {
    "ExecuteTime": {
     "end_time": "2022-07-24T03:55:31.363770Z",
     "start_time": "2022-07-24T03:55:31.352212Z"
    }
   },
   "outputs": [],
   "source": [
    "# hhnn 길이 맞춰주는 함수\n",
    "def fit_hhnn(data):\n",
    "    for i in range(len(data)):\n",
    "        if len(str(data['hhnn'][i]))==1:\n",
    "            data['hhnn'][i]=str('000')+str(data['hhnn'][i])\n",
    "        elif len(str(data['hhnn'][i]))==2:\n",
    "            data['hhnn'][i]=str('00')+str(data['hhnn'][i])\n",
    "        elif len(str(data['hhnn'][i]))==3:\n",
    "            data['hhnn'][i]=str('0')+str(data['hhnn'][i])\n",
    "        else:\n",
    "            continue"
   ]
  },
  {
   "cell_type": "code",
   "execution_count": 18,
   "id": "c003f535",
   "metadata": {
    "ExecuteTime": {
     "end_time": "2022-07-24T03:55:31.502325Z",
     "start_time": "2022-07-24T03:55:31.489656Z"
    }
   },
   "outputs": [],
   "source": [
    "# 날짜, 시간 datetime 형식으로 바꾸는 함수\n",
    "def to_datetime(data):\n",
    "    data['yyyymmdd'] = data['yyyymmdd'].astype(int)\n",
    "    data['hhnn'] = data['hhnn'].astype(int)\n",
    "    \n",
    "    # hhnn 길이 맞추기\n",
    "    fit_hhnn(data)\n",
    "    \n",
    "    # yyyymmdd, hhnn column 붙이기\n",
    "    data['yyyymmdd'] = data['yyyymmdd'].astype(str)\n",
    "    cols=['yyyymmdd','hhnn']\n",
    "    data['yyyymmddhhnn']= data[cols].apply(lambda row:''.join(row.values.astype(str)), axis=1)\n",
    "\n",
    "    # datetime으로 형식 변환 str to datetime\n",
    "    data['yyyymmddhhnn'] = pd.to_datetime(data['yyyymmddhhnn'], format='%Y%m%d%H%M')\n",
    "    data.sort_values(by=['yyyymmddhhnn'], inplace=True, ascending=True)\n",
    "    \n",
    "    return data.drop(columns=['yyyymmdd','hhnn'],axis=1,inplace=True)"
   ]
  },
  {
   "cell_type": "code",
   "execution_count": 19,
   "id": "da60fa90",
   "metadata": {
    "ExecuteTime": {
     "end_time": "2022-07-24T03:55:31.650855Z",
     "start_time": "2022-07-24T03:55:31.639298Z"
    }
   },
   "outputs": [],
   "source": [
    "def imputation(df):\n",
    "    region = df\n",
    "    df = pd.read_csv(f'{region_path}{df}.csv',index_col=0)\n",
    "    \n",
    "    # knnimputer 사용하기 위해서 날짜, 시간 따로 빼두기\n",
    "    yyyymmdd = df['yyyymmdd']\n",
    "    hhnn = df['hhnn']\n",
    "#     uv = df['uv']\n",
    "    yyyymmdd = np.array(yyyymmdd)\n",
    "    hhnn = np.array(hhnn)\n",
    "#     uv = np.array(uv)\n",
    "    \n",
    "    # knnimputer 사용\n",
    "    df = df.replace(-999,np.NaN)\n",
    "    df.drop(columns = ['region','hhnn','yyyymmdd'],axis=1,inplace=True)\n",
    "    imputer = KNNImputer(n_neighbors = 5)\n",
    "    imputed = imputer.fit_transform(df)\n",
    "    \n",
    "    # 떼어뒀던 행들 다시 붙이기\n",
    "    df_imputed = pd.DataFrame(imputed,columns=df.columns)\n",
    "    df_imputed['yyyymmdd'] = yyyymmdd\n",
    "    df_imputed['hhnn'] = hhnn\n",
    "#     df_imputed['uv'] = uv\n",
    "    # 날짜, 시간 datetime 형식으로 바꾸기\n",
    "    to_datetime(df_imputed)\n",
    "    \n",
    "    df_imputed.to_csv(f'{knn_path}{region}_knn_train.csv',index=False)\n",
    "    "
   ]
  },
  {
   "cell_type": "code",
   "execution_count": 20,
   "id": "9472d230",
   "metadata": {
    "ExecuteTime": {
     "end_time": "2022-07-24T04:11:48.256250Z",
     "start_time": "2022-07-24T03:55:32.168240Z"
    }
   },
   "outputs": [],
   "source": [
    "# train preprocessing 실행\n",
    "all_data = load_data()\n",
    "\n",
    "# 지역 분리하기\n",
    "split_region(all_data)\n",
    "regions = ['고산','강릉','서울','인천','울릉도독도','청주','안면도','대전','포항','대구','전주','울산','광주','부산','목포']\n",
    "\n",
    "for i in regions:\n",
    "    region = i\n",
    "    i = pd.read_csv(f'{region_path}{region}.csv')\n",
    "    imputation(region)"
   ]
  },
  {
   "cell_type": "markdown",
   "id": "b7a0d52d",
   "metadata": {},
   "source": [
    "----------------------------------------"
   ]
  },
  {
   "cell_type": "markdown",
   "id": "0dde1e65",
   "metadata": {},
   "source": [
    "# Test"
   ]
  },
  {
   "cell_type": "code",
   "execution_count": 2,
   "id": "a23f2bf0",
   "metadata": {
    "ExecuteTime": {
     "end_time": "2022-07-23T12:11:53.298864Z",
     "start_time": "2022-07-23T12:11:53.294692Z"
    }
   },
   "outputs": [],
   "source": [
    "# test file 경로 설정\n",
    "global_path = './uv_data_test/*'\n",
    "region_path = './region_test/'\n",
    "knn_path = './KNN_test/'\n"
   ]
  },
  {
   "cell_type": "code",
   "execution_count": 3,
   "id": "a4edbf3c",
   "metadata": {
    "ExecuteTime": {
     "end_time": "2022-07-23T12:11:53.759129Z",
     "start_time": "2022-07-23T12:11:53.750744Z"
    }
   },
   "outputs": [],
   "source": [
    "def load_data():\n",
    "    folders = glob.glob(global_path)\n",
    "    \n",
    "    # 새로운 데이터 프레임 생성\n",
    "    all_data = pd.DataFrame()\n",
    "\n",
    "    for files in folders:\n",
    "        df= pd.read_csv(files)\n",
    "        df.columns = [\"YearMonthDayHourMinute\",\"stn\",\"lon\",\"lat\",\"uv\",\"band1\",\"band2\",\"band3\",\"band4\",\"band5\",\"band6\",\"band7\",\"band8\",\"band9\",\"band10\",\"band11\",\"band12\",\"band13\",\"band14\",\"band15\",\"band16\",\"solarza\",\"sateza\",\"esr\",\"height\",\"landtype\"]\n",
    "        all_data = pd.concat([all_data, df])\n",
    "#         all_data.drop('Unnamed: 0', axis=1)\n",
    "    \n",
    "    return all_data"
   ]
  },
  {
   "cell_type": "code",
   "execution_count": 4,
   "id": "1ba30d3d",
   "metadata": {
    "ExecuteTime": {
     "end_time": "2022-07-23T12:11:53.927952Z",
     "start_time": "2022-07-23T12:11:53.915184Z"
    }
   },
   "outputs": [],
   "source": [
    "def imputation(df):\n",
    "    region = df\n",
    "    df = pd.read_csv(f'{region_path}{df}.csv')\n",
    "    \n",
    "    # knnimputer 사용하기 위해서 날짜, 시간 따로 빼두기\n",
    "    index = df['YearMonthDayHourMinute']\n",
    "    index = np.array(index)\n",
    "\n",
    "    # knnimputer 사용\n",
    "    df = df.replace(-999,np.NaN)\n",
    "    df.drop(columns = ['region','uv','YearMonthDayHourMinute'],axis=1,inplace=True)\n",
    "    imputer = KNNImputer(n_neighbors = 5)\n",
    "    imputed = imputer.fit_transform(df)\n",
    "    \n",
    "    # 떼어뒀던 행들 다시 붙이기\n",
    "    df_imputed = pd.DataFrame(imputed,columns=df.columns)\n",
    "    df_imputed['uv']=0\n",
    "    df_imputed['yyyymmddhhnn'] = index\n",
    "    # 날짜, 시간 datetime 형식으로 바꾸기\n",
    "    df_imputed['yyyymmddhhnn'] = pd.to_datetime(df_imputed['yyyymmddhhnn'],format='%Y%m%d%H%M')\n",
    "\n",
    "    df_imputed.to_csv(f'{knn_path}{region}_knn_test.csv',index=False)"
   ]
  },
  {
   "cell_type": "code",
   "execution_count": 7,
   "id": "236e5326",
   "metadata": {
    "ExecuteTime": {
     "end_time": "2022-07-23T12:12:13.485001Z",
     "start_time": "2022-07-23T12:12:10.742794Z"
    }
   },
   "outputs": [],
   "source": [
    "# test preprocessing 실행\n",
    "all_data = load_data()\n",
    "\n",
    "# 지역 분리하기\n",
    "split_region(all_data)\n",
    "regions = ['고산','강릉','서울','인천','울릉도독도','청주','안면도','대전','포항','대구','전주','울산','광주','부산','목포']\n",
    "\n",
    "for i in regions:\n",
    "    region = i\n",
    "    i = pd.read_csv(f'{region_path}{region}.csv')\n",
    "    imputation(region)"
   ]
  },
  {
   "cell_type": "code",
   "execution_count": null,
   "id": "312221a8",
   "metadata": {},
   "outputs": [],
   "source": []
  }
 ],
 "metadata": {
  "kernelspec": {
   "display_name": "Python 3 (ipykernel)",
   "language": "python",
   "name": "python3"
  },
  "language_info": {
   "codemirror_mode": {
    "name": "ipython",
    "version": 3
   },
   "file_extension": ".py",
   "mimetype": "text/x-python",
   "name": "python",
   "nbconvert_exporter": "python",
   "pygments_lexer": "ipython3",
   "version": "3.8.13"
  },
  "toc": {
   "base_numbering": 1,
   "nav_menu": {},
   "number_sections": true,
   "sideBar": true,
   "skip_h1_title": false,
   "title_cell": "Table of Contents",
   "title_sidebar": "Contents",
   "toc_cell": false,
   "toc_position": {},
   "toc_section_display": true,
   "toc_window_display": false
  }
 },
 "nbformat": 4,
 "nbformat_minor": 5
}
